{
  "nbformat": 4,
  "nbformat_minor": 0,
  "metadata": {
    "colab": {
      "provenance": [],
      "mount_file_id": "1WJy5ez_SF3K1E2ew7uKqEVU9gJ3w3oG0",
      "authorship_tag": "ABX9TyPB50zdoMyRKW3FCTycNAzq",
      "include_colab_link": true
    },
    "kernelspec": {
      "name": "python3",
      "display_name": "Python 3"
    },
    "language_info": {
      "name": "python"
    }
  },
  "cells": [
    {
      "cell_type": "markdown",
      "metadata": {
        "id": "view-in-github",
        "colab_type": "text"
      },
      "source": [
        "<a href=\"https://colab.research.google.com/github/beemne/chat_app/blob/main/Untitled0.ipynb\" target=\"_parent\"><img src=\"https://colab.research.google.com/assets/colab-badge.svg\" alt=\"Open In Colab\"/></a>"
      ]
    },
    {
      "cell_type": "code",
      "execution_count": 1,
      "metadata": {
        "colab": {
          "base_uri": "https://localhost:8080/"
        },
        "id": "NX2wtNdkqItZ",
        "outputId": "ebbf0ab0-4839-4629-806e-f3133b2f8e35"
      },
      "outputs": [
        {
          "output_type": "stream",
          "name": "stdout",
          "text": [
            "Cloning into 'chat_app'...\n",
            "remote: Enumerating objects: 3, done.\u001b[K\n",
            "remote: Counting objects: 100% (3/3), done.\u001b[K\n",
            "remote: Total 3 (delta 0), reused 0 (delta 0), pack-reused 0 (from 0)\u001b[K\n",
            "Receiving objects: 100% (3/3), done.\n"
          ]
        }
      ],
      "source": [
        "!git clone https://github.com/beemne/chat_app.git"
      ]
    },
    {
      "cell_type": "code",
      "source": [
        "%cd chat_app"
      ],
      "metadata": {
        "colab": {
          "base_uri": "https://localhost:8080/"
        },
        "id": "S8tQp2rztGkk",
        "outputId": "7e7042bd-2767-47ed-cfe1-aeba403d729c"
      },
      "execution_count": 2,
      "outputs": [
        {
          "output_type": "stream",
          "name": "stdout",
          "text": [
            "/content/chat_app\n"
          ]
        }
      ]
    },
    {
      "cell_type": "code",
      "source": [
        "!pip install django"
      ],
      "metadata": {
        "colab": {
          "base_uri": "https://localhost:8080/"
        },
        "id": "1VsH9ofWtRKh",
        "outputId": "b46801ef-6cb2-4ac1-b861-780fd7c7489a"
      },
      "execution_count": 3,
      "outputs": [
        {
          "output_type": "stream",
          "name": "stdout",
          "text": [
            "Collecting django\n",
            "  Downloading django-5.2.1-py3-none-any.whl.metadata (4.1 kB)\n",
            "Collecting asgiref>=3.8.1 (from django)\n",
            "  Downloading asgiref-3.8.1-py3-none-any.whl.metadata (9.3 kB)\n",
            "Requirement already satisfied: sqlparse>=0.3.1 in /usr/local/lib/python3.11/dist-packages (from django) (0.5.3)\n",
            "Downloading django-5.2.1-py3-none-any.whl (8.3 MB)\n",
            "\u001b[2K   \u001b[90m━━━━━━━━━━━━━━━━━━━━━━━━━━━━━━━━━━━━━━━━\u001b[0m \u001b[32m8.3/8.3 MB\u001b[0m \u001b[31m49.1 MB/s\u001b[0m eta \u001b[36m0:00:00\u001b[0m\n",
            "\u001b[?25hDownloading asgiref-3.8.1-py3-none-any.whl (23 kB)\n",
            "Installing collected packages: asgiref, django\n",
            "Successfully installed asgiref-3.8.1 django-5.2.1\n"
          ]
        }
      ]
    },
    {
      "cell_type": "code",
      "source": [
        "!django-admin startproject chat_app ."
      ],
      "metadata": {
        "id": "kvh5jnw5td_e"
      },
      "execution_count": 4,
      "outputs": []
    },
    {
      "cell_type": "code",
      "source": [
        "!django-admin startapp chat"
      ],
      "metadata": {
        "id": "MQrNRQCMtlLP"
      },
      "execution_count": 5,
      "outputs": []
    },
    {
      "cell_type": "code",
      "source": [],
      "metadata": {
        "id": "91x0Zr-OtrDa"
      },
      "execution_count": null,
      "outputs": []
    }
  ]
}